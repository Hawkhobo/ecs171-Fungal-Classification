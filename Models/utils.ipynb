{
 "cells": [
  {
   "cell_type": "code",
   "execution_count": null,
   "id": "e18b9d44-5f11-47ae-8735-278d348a58ee",
   "metadata": {},
   "outputs": [],
   "source": [
    "import os\n",
    "import torch\n",
    "import random\n",
    "import pickle\n",
    "import numpy as np\n",
    "from torch.utils.data import Dataset\n",
    "\n",
    "\n",
    "def seed_everything(seed=1234):\n",
    "    random.seed(seed)\n",
    "    os.environ['PYTHONHASHSEED'] = str(seed)\n",
    "    np.random.seed(seed)\n",
    "    torch.manual_seed(seed)\n",
    "    torch.cuda.manual_seed(seed)\n",
    "    torch.cuda.manual_seed_all(seed)\n",
    "    # torch.backends.cudnn.deterministic = True\n",
    "    # torch.backends.cudnn.benchmark = True\n",
    "\n",
    "# Refer to https://github.com/mlpen/Nystromformer/blob/main/LRA/code/dataset.py\n",
    "class DeFungiDataset(Dataset):\n",
    "    def __init__(self, file_path, endless):\n",
    "\n",
    "        self.endless = endless\n",
    "        with open(file_path, 'rb') as f:\n",
    "            self.examples = pickle.load(f)\n",
    "            random.shuffle(self.examples)\n",
    "            self.curr_idx = 0\n",
    "\n",
    "        print(f'Loaded {file_path}... size={len(self.examples)}', flush=True)\n",
    "\n",
    "    def __len__(self):\n",
    "        return len(self.examples)\n",
    "\n",
    "    def create_inst(self, inst):\n",
    "        output = {}\n",
    "        output['input_ids_0'] = torch.tensor(inst['input_ids_0'], dtype=torch.long)\n",
    "        output['mask_0'] = (output['input_ids_0'] != 0).float()\n",
    "        if 'input_ids_1' in inst:\n",
    "            output['input_ids_1'] = torch.tensor(inst['input_ids_1'], dtype=torch.long)\n",
    "            output['mask_1'] = (output['input_ids_1'] != 0).float()\n",
    "        output['label'] = torch.tensor(inst['label'], dtype=torch.long)\n",
    "        return output\n",
    "\n",
    "    def __getitem__(self, i):\n",
    "        if not self.endless:\n",
    "            return self.create_inst(self.examples[i])\n",
    "\n",
    "        if self.curr_idx >= len(self.examples):\n",
    "            random.shuffle(self.examples)\n",
    "            self.curr_idx = 0\n",
    "        inst = self.examples[self.curr_idx]\n",
    "        self.curr_idx += 1\n",
    "\n",
    "        return self.create_inst(inst)\n"
   ]
  }
 ],
 "metadata": {
  "kernelspec": {
   "display_name": "Python 3 (ipykernel)",
   "language": "python",
   "name": "python3"
  },
  "language_info": {
   "codemirror_mode": {
    "name": "ipython",
    "version": 3
   },
   "file_extension": ".py",
   "mimetype": "text/x-python",
   "name": "python",
   "nbconvert_exporter": "python",
   "pygments_lexer": "ipython3",
   "version": "3.11.6"
  }
 },
 "nbformat": 4,
 "nbformat_minor": 5
}
