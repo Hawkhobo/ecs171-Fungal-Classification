{
 "cells": [
  {
   "cell_type": "code",
   "execution_count": null,
   "id": "f426145f-6325-44f0-85aa-369e5446e4ae",
   "metadata": {},
   "outputs": [],
   "source": [
    "import sys\n",
    "import torch.nn as nn\n",
    "\n",
    "\n",
    "class RNN(nn.Module):\n",
    "    def __init__(self, model, input_size, output_size, hidden_size, num_layers, use_embed=False, char_vocab=None, fix_length=True):\n",
    "        super(RNN, self).__init__()\n",
    "        self.use_embed = use_embed\n",
    "        self.fix_length = fix_length\n",
    "\n",
    "        if self.use_embed:\n",
    "            self.embedding = nn.Embedding(char_vocab, input_size)\n",
    "\n",
    "        if model == 'LSTM':\n",
    "            self.rnn_func = nn.LSTM(input_size=input_size, hidden_size=hidden_size, num_layers=num_layers)\n",
    "        elif model == 'GRU':\n",
    "            self.rnn_func = nn.GRU(input_size=input_size, hidden_size=hidden_size, num_layers=num_layers)\n",
    "        else:\n",
    "            print('no this model.')\n",
    "            sys.exit()\n",
    "        \n",
    "        self.linear = nn.Linear(hidden_size, output_size)\n",
    "\n",
    "    def forward(self, x, mask=None):\n",
    "        if self.use_embed:\n",
    "            x = self.embedding(x)  # out: num, length, dim\n",
    "        x = x.permute(1, 0, 2)  # out: length, num, dim\n",
    "        # print(x.shape)\n",
    "        # sys.exit()\n",
    "        y_rnn, _ = self.rnn_func(x)\n",
    "\n",
    "        if self.fix_length:\n",
    "            y_class = y_rnn[-1, :, :]\n",
    "        else:\n",
    "            P = mask.unsqueeze(1).expand(y_rnn.size(1), y_rnn.size(2)).unsqueeze(0)\n",
    "            y_class = y_rnn.gather(0, P).squeeze(0)\n",
    "\n",
    "        y = self.linear(y_class)\n",
    "        return y\n"
   ]
  }
 ],
 "metadata": {
  "kernelspec": {
   "display_name": "Python 3 (ipykernel)",
   "language": "python",
   "name": "python3"
  },
  "language_info": {
   "codemirror_mode": {
    "name": "ipython",
    "version": 3
   },
   "file_extension": ".py",
   "mimetype": "text/x-python",
   "name": "python",
   "nbconvert_exporter": "python",
   "pygments_lexer": "ipython3",
   "version": "3.11.6"
  }
 },
 "nbformat": 4,
 "nbformat_minor": 5
}
