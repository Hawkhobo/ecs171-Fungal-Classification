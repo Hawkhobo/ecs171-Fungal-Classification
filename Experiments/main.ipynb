{
 "cells": [
  {
   "cell_type": "markdown",
   "id": "d29c7c2b-170f-4213-a076-1f1c0aca1835",
   "metadata": {},
   "source": [
    "# Runtime\n",
    "Calls the ML models, handles training, loads in the dataset, using all the other methods present in ./Experiments and ./Models"
   ]
  },
  {
   "cell_type": "markdown",
   "id": "ce342f52-3913-4e20-b1e3-523100dd57b9",
   "metadata": {},
   "source": [
    "## Methods and Libraries"
   ]
  },
  {
   "cell_type": "code",
   "execution_count": 5,
   "id": "88aa9bd8-d0b1-49d8-a5b2-a4a73f62e567",
   "metadata": {},
   "outputs": [],
   "source": [
    "import os\n",
    "import sys\n",
    "import torch\n",
    "import wandb\n",
    "import logging\n",
    "import pickle\n",
    "from torch.utils.data import DataLoader\n",
    "\n",
    "%run -i config.ipynb\n",
    "%run -i train.ipynb\n",
    "\n",
    "%run -i ../Models/net_conv.ipynb\n",
    "%run -i ../Models/net_conv_rf.ipynb\n",
    "%run -i ../Models/net_rnn.ipynb\n",
    "\n",
    "%run -i ../Models/utils.ipynb"
   ]
  },
  {
   "cell_type": "markdown",
   "id": "c2c85364-2d68-45e0-a6c9-b427b6192508",
   "metadata": {},
   "source": [
    "## Argument and Configuration Handler "
   ]
  },
  {
   "cell_type": "code",
   "execution_count": 2,
   "id": "0976df32-2cae-42f0-a7df-6fcd596689f4",
   "metadata": {},
   "outputs": [
    {
     "name": "stdout",
     "output_type": "stream",
     "text": [
      "Select one of the following models to train on the dataset: CDIL  DIL  TCN  CNN  Deformable  LSTM  GRU  "
     ]
    },
    {
     "name": "stdin",
     "output_type": "stream",
     "text": [
      "Selection: CDIL\n"
     ]
    },
    {
     "name": "stderr",
     "output_type": "stream",
     "text": [
      "\u001b[34m\u001b[1mwandb\u001b[0m: Currently logged in as: \u001b[33mhawkhobo\u001b[0m (\u001b[33mjacob-davidian\u001b[0m). Use \u001b[1m`wandb login --relogin`\u001b[0m to force relogin\n"
     ]
    },
    {
     "data": {
      "text/html": [
       "Tracking run with wandb version 0.16.1"
      ],
      "text/plain": [
       "<IPython.core.display.HTML object>"
      ]
     },
     "metadata": {},
     "output_type": "display_data"
    },
    {
     "data": {
      "text/html": [
       "Run data is saved locally in <code>/home/hawkobo/Documents/ecs171-fungal-classification/Experiments/wandb/run-20231208_140054-w5kvaxg2</code>"
      ],
      "text/plain": [
       "<IPython.core.display.HTML object>"
      ]
     },
     "metadata": {},
     "output_type": "display_data"
    },
    {
     "data": {
      "text/html": [
       "Syncing run <strong><a href='https://wandb.ai/jacob-davidian/DeFungi/runs/w5kvaxg2' target=\"_blank\">CDIL</a></strong> to <a href='https://wandb.ai/jacob-davidian/DeFungi' target=\"_blank\">Weights & Biases</a> (<a href='https://wandb.me/run' target=\"_blank\">docs</a>)<br/>"
      ],
      "text/plain": [
       "<IPython.core.display.HTML object>"
      ]
     },
     "metadata": {},
     "output_type": "display_data"
    },
    {
     "data": {
      "text/html": [
       " View project at <a href='https://wandb.ai/jacob-davidian/DeFungi' target=\"_blank\">https://wandb.ai/jacob-davidian/DeFungi</a>"
      ],
      "text/plain": [
       "<IPython.core.display.HTML object>"
      ]
     },
     "metadata": {},
     "output_type": "display_data"
    },
    {
     "data": {
      "text/html": [
       " View run at <a href='https://wandb.ai/jacob-davidian/DeFungi/runs/w5kvaxg2' target=\"_blank\">https://wandb.ai/jacob-davidian/DeFungi/runs/w5kvaxg2</a>"
      ],
      "text/plain": [
       "<IPython.core.display.HTML object>"
      ]
     },
     "metadata": {},
     "output_type": "display_data"
    }
   ],
   "source": [
    "# Determine MODEL to use\n",
    "MODEL = 'null'\n",
    "models = ['CDIL', 'DIL', 'TCN', 'CNN', 'Deformable', 'LSTM', 'GRU']\n",
    "while MODEL not in models:\n",
    "    print('Select one of the following models to train on the dataset: ', end='')\n",
    "    for i in models:\n",
    "        print(i, ' ', end='')\n",
    "    MODEL = input('Selection:')\n",
    "\n",
    "\n",
    "# Configure device (CPU)\n",
    "device = 'cpu'\n",
    "\n",
    "# Using WANDB for visualization of validation and performance\n",
    "wandb.init(project='DeFungi', name=MODEL, entity=\"jacob-davidian\")\n",
    "WANDB = wandb\n",
    "\n",
    "# Config parameters\n",
    "cfg_training = config['training']\n",
    "cfg_model = config['models']\n",
    "\n",
    "BATCH = cfg_training['batch_size']\n",
    "CLASS = cfg_model['n_class']\n",
    "SEQ_LEN = cfg_model['n_length']\n",
    "FIX_length = cfg_model['fix_length']\n",
    "USE_EMBED = cfg_model['use_embedding']\n",
    "CHAR_COCAB = cfg_model['vocab_size']\n",
    "INPUT_SIZE = cfg_model['dim']"
   ]
  },
  {
   "cell_type": "markdown",
   "id": "1872ea1c-4def-4be3-a78f-4355b24d3ad0",
   "metadata": {},
   "source": [
    "## Model Selection"
   ]
  },
  {
   "cell_type": "code",
   "execution_count": 3,
   "id": "e2967a04-dc68-4759-8ce6-f7366440e632",
   "metadata": {},
   "outputs": [
    {
     "name": "stdout",
     "output_type": "stream",
     "text": [
      "position: 512\n",
      "layer:1 \t distance:3 \t size:3\n",
      "layer:2 \t distance:7 \t size:7\n",
      "layer:3 \t distance:15 \t size:15\n",
      "layer:4 \t distance:31 \t size:31\n",
      "layer:5 \t distance:63 \t size:63\n",
      "layer:6 \t distance:127 \t size:127\n",
      "layer:7 \t distance:255 \t size:255\n",
      "layer:8 \t distance:511 \t size:511\n",
      "layer:9 \t distance:1023 \t size:1023\n",
      "\n",
      "Diagram of CNN: \n",
      " CONV(\n",
      "  (embedding): Embedding(256, 64)\n",
      "  (conv): ConvPart(\n",
      "    (conv_net): Sequential(\n",
      "      (0): Block(\n",
      "        (conv): Conv1d(64, 64, kernel_size=(3,), stride=(1,), padding=(1,), padding_mode=circular)\n",
      "        (nonlinear): ReLU()\n",
      "      )\n",
      "      (1): Block(\n",
      "        (conv): Conv1d(64, 64, kernel_size=(3,), stride=(1,), padding=(2,), dilation=(2,), padding_mode=circular)\n",
      "        (nonlinear): ReLU()\n",
      "      )\n",
      "      (2): Block(\n",
      "        (conv): Conv1d(64, 64, kernel_size=(3,), stride=(1,), padding=(4,), dilation=(4,), padding_mode=circular)\n",
      "        (nonlinear): ReLU()\n",
      "      )\n",
      "      (3): Block(\n",
      "        (conv): Conv1d(64, 64, kernel_size=(3,), stride=(1,), padding=(8,), dilation=(8,), padding_mode=circular)\n",
      "        (nonlinear): ReLU()\n",
      "      )\n",
      "      (4): Block(\n",
      "        (conv): Conv1d(64, 64, kernel_size=(3,), stride=(1,), padding=(16,), dilation=(16,), padding_mode=circular)\n",
      "        (nonlinear): ReLU()\n",
      "      )\n",
      "      (5): Block(\n",
      "        (conv): Conv1d(64, 64, kernel_size=(3,), stride=(1,), padding=(32,), dilation=(32,), padding_mode=circular)\n",
      "        (nonlinear): ReLU()\n",
      "      )\n",
      "      (6): Block(\n",
      "        (conv): Conv1d(64, 64, kernel_size=(3,), stride=(1,), padding=(64,), dilation=(64,), padding_mode=circular)\n",
      "        (nonlinear): ReLU()\n",
      "      )\n",
      "      (7): Block(\n",
      "        (conv): Conv1d(64, 64, kernel_size=(3,), stride=(1,), padding=(128,), dilation=(128,), padding_mode=circular)\n",
      "        (nonlinear): ReLU()\n",
      "      )\n",
      "      (8): Block(\n",
      "        (conv): Conv1d(64, 64, kernel_size=(3,), stride=(1,), padding=(256,), dilation=(256,), padding_mode=circular)\n",
      "        (nonlinear): ReLU()\n",
      "      )\n",
      "    )\n",
      "  )\n",
      "  (linear): Linear(in_features=64, out_features=5, bias=True)\n",
      ")\n"
     ]
    },
    {
     "name": "stderr",
     "output_type": "stream",
     "text": [
      "/home/hawkobo/anaconda3/envs/jupyterlab-debugger/lib/python3.11/site-packages/torch/nn/utils/weight_norm.py:30: UserWarning: torch.nn.utils.weight_norm is deprecated in favor of torch.nn.utils.parametrizations.weight_norm.\n",
      "  warnings.warn(\"torch.nn.utils.weight_norm is deprecated in favor of torch.nn.utils.parametrizations.weight_norm.\")\n"
     ]
    }
   ],
   "source": [
    "# Model selection with configs \n",
    "if MODEL == 'CDIL' or MODEL == 'DIL' or MODEL == 'TCN' or MODEL == 'CNN':\n",
    "    LAYER = cfg_model['cnn_layer']\n",
    "    NHID = cfg_model['cnn_hidden']\n",
    "    KERNEL_SIZE = cfg_model['cnn_ks']\n",
    "    net = CONV(MODEL, INPUT_SIZE, CLASS, [NHID] * LAYER, KERNEL_SIZE, False, False, USE_EMBED, CHAR_COCAB, FIX_length)\n",
    "    receptive_field(seq_length=SEQ_LEN, model=MODEL, kernel_size=KERNEL_SIZE, layer=LAYER)\n",
    "elif MODEL == 'Deformable':\n",
    "    LAYER = cfg_model['cnn_layer']\n",
    "    NHID = cfg_model['cnn_hidden']\n",
    "    KERNEL_SIZE = cfg_model['cnn_ks']\n",
    "    net = CONV('CNN', INPUT_SIZE, CLASS, [NHID] * LAYER, KERNEL_SIZE, True, False, USE_EMBED, CHAR_COCAB, FIX_length)\n",
    "    receptive_field(seq_length=SEQ_LEN, model=MODEL, kernel_size=KERNEL_SIZE, layer=LAYER)\n",
    "elif MODEL == 'LSTM' or MODEL == 'GRU':\n",
    "    LAYER = cfg_model['rnn_layer']\n",
    "    NHID = cfg_model['rnn_hidden']\n",
    "    net = RNN(MODEL, INPUT_SIZE, CLASS, NHID, LAYER, USE_EMBED, CHAR_COCAB, FIX_length)\n",
    "\n",
    "net = net.to(device)\n",
    "para_num = sum(p.numel() for p in net.parameters() if p.requires_grad)\n",
    "\n",
    "# Prinout CNN architecture\n",
    "print('Diagram of CNN: \\n', net)"
   ]
  },
  {
   "cell_type": "markdown",
   "id": "9fb1aa85-0979-4b93-afe6-a2e1c21af0f6",
   "metadata": {},
   "source": [
    "## Create Log files\n",
    "Please consult the readme for what each file does"
   ]
  },
  {
   "cell_type": "code",
   "execution_count": 4,
   "id": "d35a7799-5604-44c9-8d24-7e264a10a180",
   "metadata": {},
   "outputs": [
    {
     "name": "stderr",
     "output_type": "stream",
     "text": [
      "cpu\n",
      "P128453_CDIL_L9_H64\n"
     ]
    }
   ],
   "source": [
    "file_name = 'P' + str(para_num) + '_' + MODEL + '_L' + str(LAYER) + '_H' + str(NHID)\n",
    "\n",
    "os.makedirs('DeFungi_log', exist_ok=True)\n",
    "os.makedirs('DeFungi_model', exist_ok=True)\n",
    "log_file_name = './DeFungi_log/' + file_name + '.txt'\n",
    "model_name = './DeFungi_model/' + file_name + '.ph'\n",
    "handlers = [logging.FileHandler(log_file_name), logging.StreamHandler()]\n",
    "logging.basicConfig(level=logging.INFO, format='%(message)s', handlers=handlers)\n",
    "loginf = logging.info\n",
    "\n",
    "loginf(device)\n",
    "loginf(file_name)"
   ]
  },
  {
   "cell_type": "markdown",
   "id": "de941fa3-39f9-441e-9410-5469bc3e1866",
   "metadata": {},
   "source": [
    "## Create Optimizer, Load Data (Train/Val/Test)"
   ]
  },
  {
   "cell_type": "code",
   "execution_count": 13,
   "id": "114d17f5-4143-4278-8672-fad626a7ad44",
   "metadata": {},
   "outputs": [
    {
     "name": "stdout",
     "output_type": "stream",
     "text": [
      "Loaded ../defungi_encoded/image.train.pickle... size=8\n",
      "Loaded ../defungi_encoded/image.dev.pickle... size=1\n",
      "Loaded ../defungi_encoded/image.test.pickle... size=1\n"
     ]
    }
   ],
   "source": [
    "# Optimize\n",
    "optimizer = torch.optim.Adam(net.parameters())\n",
    "loss = torch.nn.CrossEntropyLoss(reduction='sum')\n",
    "\n",
    "\n",
    "# Data\n",
    "trainloader = DataLoader(DeFungiDataset(f'../defungi_encoded/image.train.pickle', True), batch_size=BATCH, shuffle=True, drop_last=False)\n",
    "valloader = DataLoader(DeFungiDataset(f'../defungi_encoded/image.dev.pickle', True), batch_size=BATCH, shuffle=False, drop_last=False)\n",
    "testloader = DataLoader(DeFungiDataset(f'../defungi_encoded/image.test.pickle', False), batch_size=BATCH, shuffle=False, drop_last=False)"
   ]
  },
  {
   "cell_type": "markdown",
   "id": "4e4d8a9f-4c62-44dc-b3fd-96b6c8b2538d",
   "metadata": {},
   "source": [
    "## Perform Training"
   ]
  },
  {
   "cell_type": "code",
   "execution_count": 16,
   "id": "768da3ad-73af-493f-9c3b-0fc515fa576e",
   "metadata": {},
   "outputs": [
    {
     "name": "stderr",
     "output_type": "stream",
     "text": [
      "  0%|                                                     | 0/1 [00:00<?, ?it/s]\n"
     ]
    },
    {
     "ename": "TypeError",
     "evalue": "new(): invalid data type 'bytes'",
     "output_type": "error",
     "traceback": [
      "\u001b[0;31m---------------------------------------------------------------------------\u001b[0m",
      "\u001b[0;31mTypeError\u001b[0m                                 Traceback (most recent call last)",
      "Cell \u001b[0;32mIn[16], line 1\u001b[0m\n\u001b[0;32m----> 1\u001b[0m \u001b[43mTrainModel\u001b[49m\u001b[43m(\u001b[49m\n\u001b[1;32m      2\u001b[0m \u001b[43m    \u001b[49m\u001b[43mfix_length\u001b[49m\u001b[38;5;241;43m=\u001b[39;49m\u001b[43mFIX_length\u001b[49m\u001b[43m,\u001b[49m\n\u001b[1;32m      3\u001b[0m \u001b[43m    \u001b[49m\u001b[43mnet\u001b[49m\u001b[38;5;241;43m=\u001b[39;49m\u001b[43mnet\u001b[49m\u001b[43m,\u001b[49m\n\u001b[1;32m      4\u001b[0m \u001b[43m    \u001b[49m\u001b[43mdevice\u001b[49m\u001b[38;5;241;43m=\u001b[39;49m\u001b[43mdevice\u001b[49m\u001b[43m,\u001b[49m\n\u001b[1;32m      5\u001b[0m \u001b[43m    \u001b[49m\u001b[43mtrainloader\u001b[49m\u001b[38;5;241;43m=\u001b[39;49m\u001b[43mtrainloader\u001b[49m\u001b[43m,\u001b[49m\n\u001b[1;32m      6\u001b[0m \u001b[43m    \u001b[49m\u001b[43mvalloader\u001b[49m\u001b[38;5;241;43m=\u001b[39;49m\u001b[43mvalloader\u001b[49m\u001b[43m,\u001b[49m\n\u001b[1;32m      7\u001b[0m \u001b[43m    \u001b[49m\u001b[43mtestloader\u001b[49m\u001b[38;5;241;43m=\u001b[39;49m\u001b[43mtestloader\u001b[49m\u001b[43m,\u001b[49m\n\u001b[1;32m      8\u001b[0m \u001b[43m    \u001b[49m\u001b[43mn_epochs\u001b[49m\u001b[38;5;241;43m=\u001b[39;49m\u001b[43mcfg_training\u001b[49m\u001b[43m[\u001b[49m\u001b[38;5;124;43m'\u001b[39;49m\u001b[38;5;124;43mepoch\u001b[39;49m\u001b[38;5;124;43m'\u001b[39;49m\u001b[43m]\u001b[49m\u001b[43m,\u001b[49m\n\u001b[1;32m      9\u001b[0m \u001b[43m    \u001b[49m\u001b[43mn_classes\u001b[49m\u001b[38;5;241;43m=\u001b[39;49m\u001b[43mcfg_model\u001b[49m\u001b[43m[\u001b[49m\u001b[38;5;124;43m'\u001b[39;49m\u001b[38;5;124;43mn_class\u001b[39;49m\u001b[38;5;124;43m'\u001b[39;49m\u001b[43m]\u001b[49m\u001b[43m,\u001b[49m\n\u001b[1;32m     10\u001b[0m \u001b[43m    \u001b[49m\u001b[43moptimizer\u001b[49m\u001b[38;5;241;43m=\u001b[39;49m\u001b[43moptimizer\u001b[49m\u001b[43m,\u001b[49m\n\u001b[1;32m     11\u001b[0m \u001b[43m    \u001b[49m\u001b[43mloss\u001b[49m\u001b[38;5;241;43m=\u001b[39;49m\u001b[43mloss\u001b[49m\u001b[43m,\u001b[49m\n\u001b[1;32m     12\u001b[0m \u001b[43m    \u001b[49m\u001b[43mloginf\u001b[49m\u001b[38;5;241;43m=\u001b[39;49m\u001b[43mloginf\u001b[49m\u001b[43m,\u001b[49m\n\u001b[1;32m     13\u001b[0m \u001b[43m    \u001b[49m\u001b[43mwandb\u001b[49m\u001b[38;5;241;43m=\u001b[39;49m\u001b[43mWANDB\u001b[49m\u001b[43m,\u001b[49m\n\u001b[1;32m     14\u001b[0m \u001b[43m    \u001b[49m\u001b[43mfile_name\u001b[49m\u001b[38;5;241;43m=\u001b[39;49m\u001b[43mmodel_name\u001b[49m\n\u001b[1;32m     15\u001b[0m \u001b[43m)\u001b[49m\n",
      "File \u001b[0;32m/tmp/ipykernel_16198/3007356140.py:84\u001b[0m, in \u001b[0;36mTrainModel\u001b[0;34m(fix_length, net, device, trainloader, valloader, testloader, n_epochs, n_classes, optimizer, loss, loginf, wandb, file_name)\u001b[0m\n\u001b[1;32m     81\u001b[0m train_num \u001b[38;5;241m=\u001b[39m \u001b[38;5;241m0\u001b[39m\n\u001b[1;32m     82\u001b[0m t_start \u001b[38;5;241m=\u001b[39m datetime\u001b[38;5;241m.\u001b[39mnow()\n\u001b[0;32m---> 84\u001b[0m \u001b[43m\u001b[49m\u001b[38;5;28;43;01mfor\u001b[39;49;00m\u001b[43m \u001b[49m\u001b[43mone_input\u001b[49m\u001b[43m \u001b[49m\u001b[38;5;129;43;01min\u001b[39;49;00m\u001b[43m \u001b[49m\u001b[43mtqdm\u001b[49m\u001b[43m(\u001b[49m\u001b[43mtrainloader\u001b[49m\u001b[43m,\u001b[49m\u001b[43m \u001b[49m\u001b[43mtotal\u001b[49m\u001b[38;5;241;43m=\u001b[39;49m\u001b[38;5;28;43mlen\u001b[39;49m\u001b[43m(\u001b[49m\u001b[43mtrainloader\u001b[49m\u001b[43m)\u001b[49m\u001b[43m)\u001b[49m\u001b[43m:\u001b[49m\n\u001b[1;32m     85\u001b[0m \u001b[43m    \u001b[49m\u001b[43moptimizer\u001b[49m\u001b[38;5;241;43m.\u001b[39;49m\u001b[43mzero_grad\u001b[49m\u001b[43m(\u001b[49m\u001b[43m)\u001b[49m\n\u001b[1;32m     86\u001b[0m \u001b[43m    \u001b[49m\u001b[43mX\u001b[49m\u001b[43m,\u001b[49m\u001b[43m \u001b[49m\u001b[43mmask\u001b[49m\u001b[43m,\u001b[49m\u001b[43m \u001b[49m\u001b[43mY\u001b[49m\u001b[43m \u001b[49m\u001b[38;5;241;43m=\u001b[39;49m\u001b[43m \u001b[49m\u001b[43mother\u001b[49m\u001b[43m(\u001b[49m\u001b[43mone_input\u001b[49m\u001b[43m,\u001b[49m\u001b[43m \u001b[49m\u001b[43mfix_length\u001b[49m\u001b[43m,\u001b[49m\u001b[43m \u001b[49m\u001b[43mdevice\u001b[49m\u001b[43m)\u001b[49m\n",
      "File \u001b[0;32m~/anaconda3/envs/jupyterlab-debugger/lib/python3.11/site-packages/tqdm/std.py:1182\u001b[0m, in \u001b[0;36mtqdm.__iter__\u001b[0;34m(self)\u001b[0m\n\u001b[1;32m   1179\u001b[0m time \u001b[38;5;241m=\u001b[39m \u001b[38;5;28mself\u001b[39m\u001b[38;5;241m.\u001b[39m_time\n\u001b[1;32m   1181\u001b[0m \u001b[38;5;28;01mtry\u001b[39;00m:\n\u001b[0;32m-> 1182\u001b[0m \u001b[43m    \u001b[49m\u001b[38;5;28;43;01mfor\u001b[39;49;00m\u001b[43m \u001b[49m\u001b[43mobj\u001b[49m\u001b[43m \u001b[49m\u001b[38;5;129;43;01min\u001b[39;49;00m\u001b[43m \u001b[49m\u001b[43miterable\u001b[49m\u001b[43m:\u001b[49m\n\u001b[1;32m   1183\u001b[0m \u001b[43m        \u001b[49m\u001b[38;5;28;43;01myield\u001b[39;49;00m\u001b[43m \u001b[49m\u001b[43mobj\u001b[49m\n\u001b[1;32m   1184\u001b[0m \u001b[43m        \u001b[49m\u001b[38;5;66;43;03m# Update and possibly print the progressbar.\u001b[39;49;00m\n\u001b[1;32m   1185\u001b[0m \u001b[43m        \u001b[49m\u001b[38;5;66;43;03m# Note: does not call self.update(1) for speed optimisation.\u001b[39;49;00m\n",
      "File \u001b[0;32m~/anaconda3/envs/jupyterlab-debugger/lib/python3.11/site-packages/torch/utils/data/dataloader.py:630\u001b[0m, in \u001b[0;36m_BaseDataLoaderIter.__next__\u001b[0;34m(self)\u001b[0m\n\u001b[1;32m    627\u001b[0m \u001b[38;5;28;01mif\u001b[39;00m \u001b[38;5;28mself\u001b[39m\u001b[38;5;241m.\u001b[39m_sampler_iter \u001b[38;5;129;01mis\u001b[39;00m \u001b[38;5;28;01mNone\u001b[39;00m:\n\u001b[1;32m    628\u001b[0m     \u001b[38;5;66;03m# TODO(https://github.com/pytorch/pytorch/issues/76750)\u001b[39;00m\n\u001b[1;32m    629\u001b[0m     \u001b[38;5;28mself\u001b[39m\u001b[38;5;241m.\u001b[39m_reset()  \u001b[38;5;66;03m# type: ignore[call-arg]\u001b[39;00m\n\u001b[0;32m--> 630\u001b[0m data \u001b[38;5;241m=\u001b[39m \u001b[38;5;28;43mself\u001b[39;49m\u001b[38;5;241;43m.\u001b[39;49m\u001b[43m_next_data\u001b[49m\u001b[43m(\u001b[49m\u001b[43m)\u001b[49m\n\u001b[1;32m    631\u001b[0m \u001b[38;5;28mself\u001b[39m\u001b[38;5;241m.\u001b[39m_num_yielded \u001b[38;5;241m+\u001b[39m\u001b[38;5;241m=\u001b[39m \u001b[38;5;241m1\u001b[39m\n\u001b[1;32m    632\u001b[0m \u001b[38;5;28;01mif\u001b[39;00m \u001b[38;5;28mself\u001b[39m\u001b[38;5;241m.\u001b[39m_dataset_kind \u001b[38;5;241m==\u001b[39m _DatasetKind\u001b[38;5;241m.\u001b[39mIterable \u001b[38;5;129;01mand\u001b[39;00m \\\n\u001b[1;32m    633\u001b[0m         \u001b[38;5;28mself\u001b[39m\u001b[38;5;241m.\u001b[39m_IterableDataset_len_called \u001b[38;5;129;01mis\u001b[39;00m \u001b[38;5;129;01mnot\u001b[39;00m \u001b[38;5;28;01mNone\u001b[39;00m \u001b[38;5;129;01mand\u001b[39;00m \\\n\u001b[1;32m    634\u001b[0m         \u001b[38;5;28mself\u001b[39m\u001b[38;5;241m.\u001b[39m_num_yielded \u001b[38;5;241m>\u001b[39m \u001b[38;5;28mself\u001b[39m\u001b[38;5;241m.\u001b[39m_IterableDataset_len_called:\n",
      "File \u001b[0;32m~/anaconda3/envs/jupyterlab-debugger/lib/python3.11/site-packages/torch/utils/data/dataloader.py:674\u001b[0m, in \u001b[0;36m_SingleProcessDataLoaderIter._next_data\u001b[0;34m(self)\u001b[0m\n\u001b[1;32m    672\u001b[0m \u001b[38;5;28;01mdef\u001b[39;00m \u001b[38;5;21m_next_data\u001b[39m(\u001b[38;5;28mself\u001b[39m):\n\u001b[1;32m    673\u001b[0m     index \u001b[38;5;241m=\u001b[39m \u001b[38;5;28mself\u001b[39m\u001b[38;5;241m.\u001b[39m_next_index()  \u001b[38;5;66;03m# may raise StopIteration\u001b[39;00m\n\u001b[0;32m--> 674\u001b[0m     data \u001b[38;5;241m=\u001b[39m \u001b[38;5;28;43mself\u001b[39;49m\u001b[38;5;241;43m.\u001b[39;49m\u001b[43m_dataset_fetcher\u001b[49m\u001b[38;5;241;43m.\u001b[39;49m\u001b[43mfetch\u001b[49m\u001b[43m(\u001b[49m\u001b[43mindex\u001b[49m\u001b[43m)\u001b[49m  \u001b[38;5;66;03m# may raise StopIteration\u001b[39;00m\n\u001b[1;32m    675\u001b[0m     \u001b[38;5;28;01mif\u001b[39;00m \u001b[38;5;28mself\u001b[39m\u001b[38;5;241m.\u001b[39m_pin_memory:\n\u001b[1;32m    676\u001b[0m         data \u001b[38;5;241m=\u001b[39m _utils\u001b[38;5;241m.\u001b[39mpin_memory\u001b[38;5;241m.\u001b[39mpin_memory(data, \u001b[38;5;28mself\u001b[39m\u001b[38;5;241m.\u001b[39m_pin_memory_device)\n",
      "File \u001b[0;32m~/anaconda3/envs/jupyterlab-debugger/lib/python3.11/site-packages/torch/utils/data/_utils/fetch.py:51\u001b[0m, in \u001b[0;36m_MapDatasetFetcher.fetch\u001b[0;34m(self, possibly_batched_index)\u001b[0m\n\u001b[1;32m     49\u001b[0m         data \u001b[38;5;241m=\u001b[39m \u001b[38;5;28mself\u001b[39m\u001b[38;5;241m.\u001b[39mdataset\u001b[38;5;241m.\u001b[39m__getitems__(possibly_batched_index)\n\u001b[1;32m     50\u001b[0m     \u001b[38;5;28;01melse\u001b[39;00m:\n\u001b[0;32m---> 51\u001b[0m         data \u001b[38;5;241m=\u001b[39m \u001b[43m[\u001b[49m\u001b[38;5;28;43mself\u001b[39;49m\u001b[38;5;241;43m.\u001b[39;49m\u001b[43mdataset\u001b[49m\u001b[43m[\u001b[49m\u001b[43midx\u001b[49m\u001b[43m]\u001b[49m\u001b[43m \u001b[49m\u001b[38;5;28;43;01mfor\u001b[39;49;00m\u001b[43m \u001b[49m\u001b[43midx\u001b[49m\u001b[43m \u001b[49m\u001b[38;5;129;43;01min\u001b[39;49;00m\u001b[43m \u001b[49m\u001b[43mpossibly_batched_index\u001b[49m\u001b[43m]\u001b[49m\n\u001b[1;32m     52\u001b[0m \u001b[38;5;28;01melse\u001b[39;00m:\n\u001b[1;32m     53\u001b[0m     data \u001b[38;5;241m=\u001b[39m \u001b[38;5;28mself\u001b[39m\u001b[38;5;241m.\u001b[39mdataset[possibly_batched_index]\n",
      "File \u001b[0;32m~/anaconda3/envs/jupyterlab-debugger/lib/python3.11/site-packages/torch/utils/data/_utils/fetch.py:51\u001b[0m, in \u001b[0;36m<listcomp>\u001b[0;34m(.0)\u001b[0m\n\u001b[1;32m     49\u001b[0m         data \u001b[38;5;241m=\u001b[39m \u001b[38;5;28mself\u001b[39m\u001b[38;5;241m.\u001b[39mdataset\u001b[38;5;241m.\u001b[39m__getitems__(possibly_batched_index)\n\u001b[1;32m     50\u001b[0m     \u001b[38;5;28;01melse\u001b[39;00m:\n\u001b[0;32m---> 51\u001b[0m         data \u001b[38;5;241m=\u001b[39m [\u001b[38;5;28;43mself\u001b[39;49m\u001b[38;5;241;43m.\u001b[39;49m\u001b[43mdataset\u001b[49m\u001b[43m[\u001b[49m\u001b[43midx\u001b[49m\u001b[43m]\u001b[49m \u001b[38;5;28;01mfor\u001b[39;00m idx \u001b[38;5;129;01min\u001b[39;00m possibly_batched_index]\n\u001b[1;32m     52\u001b[0m \u001b[38;5;28;01melse\u001b[39;00m:\n\u001b[1;32m     53\u001b[0m     data \u001b[38;5;241m=\u001b[39m \u001b[38;5;28mself\u001b[39m\u001b[38;5;241m.\u001b[39mdataset[possibly_batched_index]\n",
      "File \u001b[0;32m/tmp/ipykernel_16198/2864514070.py:43\u001b[0m, in \u001b[0;36mDeFungiDataset.__getitem__\u001b[0;34m(self, i)\u001b[0m\n\u001b[1;32m     40\u001b[0m inst \u001b[38;5;241m=\u001b[39m \u001b[38;5;28mself\u001b[39m\u001b[38;5;241m.\u001b[39mexamples[\u001b[38;5;28mself\u001b[39m\u001b[38;5;241m.\u001b[39mcurr_idx]\n\u001b[1;32m     41\u001b[0m \u001b[38;5;28mself\u001b[39m\u001b[38;5;241m.\u001b[39mcurr_idx \u001b[38;5;241m+\u001b[39m\u001b[38;5;241m=\u001b[39m \u001b[38;5;241m1\u001b[39m\n\u001b[0;32m---> 43\u001b[0m \u001b[38;5;28;01mreturn\u001b[39;00m \u001b[38;5;28;43mself\u001b[39;49m\u001b[38;5;241;43m.\u001b[39;49m\u001b[43mcreate_inst\u001b[49m\u001b[43m(\u001b[49m\u001b[43minst\u001b[49m\u001b[43m)\u001b[49m\n",
      "File \u001b[0;32m/tmp/ipykernel_16198/2864514070.py:30\u001b[0m, in \u001b[0;36mDeFungiDataset.create_inst\u001b[0;34m(self, inst)\u001b[0m\n\u001b[1;32m     28\u001b[0m     output[\u001b[38;5;124m'\u001b[39m\u001b[38;5;124minput_ids_1\u001b[39m\u001b[38;5;124m'\u001b[39m] \u001b[38;5;241m=\u001b[39m torch\u001b[38;5;241m.\u001b[39mtensor(inst[\u001b[38;5;124m'\u001b[39m\u001b[38;5;124minput_ids_1\u001b[39m\u001b[38;5;124m'\u001b[39m], dtype\u001b[38;5;241m=\u001b[39mtorch\u001b[38;5;241m.\u001b[39mlong)\n\u001b[1;32m     29\u001b[0m     output[\u001b[38;5;124m'\u001b[39m\u001b[38;5;124mmask_1\u001b[39m\u001b[38;5;124m'\u001b[39m] \u001b[38;5;241m=\u001b[39m (output[\u001b[38;5;124m'\u001b[39m\u001b[38;5;124minput_ids_1\u001b[39m\u001b[38;5;124m'\u001b[39m] \u001b[38;5;241m!=\u001b[39m \u001b[38;5;241m0\u001b[39m)\u001b[38;5;241m.\u001b[39mfloat()\n\u001b[0;32m---> 30\u001b[0m output[\u001b[38;5;124m'\u001b[39m\u001b[38;5;124mlabel\u001b[39m\u001b[38;5;124m'\u001b[39m] \u001b[38;5;241m=\u001b[39m \u001b[43mtorch\u001b[49m\u001b[38;5;241;43m.\u001b[39;49m\u001b[43mtensor\u001b[49m\u001b[43m(\u001b[49m\u001b[43minst\u001b[49m\u001b[43m[\u001b[49m\u001b[38;5;124;43m'\u001b[39;49m\u001b[38;5;124;43mlabel\u001b[39;49m\u001b[38;5;124;43m'\u001b[39;49m\u001b[43m]\u001b[49m\u001b[43m,\u001b[49m\u001b[43m \u001b[49m\u001b[43mdtype\u001b[49m\u001b[38;5;241;43m=\u001b[39;49m\u001b[43mtorch\u001b[49m\u001b[38;5;241;43m.\u001b[39;49m\u001b[43mlong\u001b[49m\u001b[43m)\u001b[49m\n\u001b[1;32m     31\u001b[0m \u001b[38;5;28;01mreturn\u001b[39;00m output\n",
      "\u001b[0;31mTypeError\u001b[0m: new(): invalid data type 'bytes'"
     ]
    }
   ],
   "source": [
    "TrainModel(\n",
    "    fix_length=FIX_length,\n",
    "    net=net,\n",
    "    device=device,\n",
    "    trainloader=trainloader,\n",
    "    valloader=valloader,\n",
    "    testloader=testloader,\n",
    "    n_epochs=cfg_training['epoch'],\n",
    "    n_classes=cfg_model['n_class'],\n",
    "    optimizer=optimizer,\n",
    "    loss=loss,\n",
    "    loginf=loginf,\n",
    "    wandb=WANDB,\n",
    "    file_name=model_name\n",
    ")\n"
   ]
  },
  {
   "cell_type": "markdown",
   "id": "d1c676f3-5024-446c-a5eb-efdb14b846e6",
   "metadata": {},
   "source": [
    "## Pass to Front-End"
   ]
  },
  {
   "cell_type": "code",
   "execution_count": null,
   "id": "997ab622-c661-491a-8ea0-7667b0ee4ea8",
   "metadata": {},
   "outputs": [],
   "source": [
    "# Save Training Results for front-end\n",
    "filename = 'fungi_classifier.sav'\n",
    "pickle.dump(f'DeFungi_{MODEL}', open(filename, 'wb'))"
   ]
  }
 ],
 "metadata": {
  "kernelspec": {
   "display_name": "Python 3 (ipykernel)",
   "language": "python",
   "name": "python3"
  },
  "language_info": {
   "codemirror_mode": {
    "name": "ipython",
    "version": 3
   },
   "file_extension": ".py",
   "mimetype": "text/x-python",
   "name": "python",
   "nbconvert_exporter": "python",
   "pygments_lexer": "ipython3",
   "version": "3.11.6"
  }
 },
 "nbformat": 4,
 "nbformat_minor": 5
}
