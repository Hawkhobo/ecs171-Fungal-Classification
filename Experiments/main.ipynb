{
 "cells": [
  {
   "cell_type": "markdown",
   "id": "d29c7c2b-170f-4213-a076-1f1c0aca1835",
   "metadata": {},
   "source": [
    "# Runtime\n",
    "Calls the ML models, handles training, loads in the dataset, using all the other methods present in ./Experiments and ./Models"
   ]
  },
  {
   "cell_type": "markdown",
   "id": "ce342f52-3913-4e20-b1e3-523100dd57b9",
   "metadata": {},
   "source": [
    "## Methods and Libraries"
   ]
  },
  {
   "cell_type": "code",
   "execution_count": null,
   "id": "88aa9bd8-d0b1-49d8-a5b2-a4a73f62e567",
   "metadata": {},
   "outputs": [],
   "source": [
    "import os\n",
    "import sys\n",
    "import torch\n",
    "import logging\n",
    "import argparse\n",
    "import pickle\n",
    "from torch.utils.data import DataLoader\n",
    "\n",
    "from lra_config import config\n",
    "from lra_train import NetDual, TrainModel\n",
    "\n",
    "sys.path.append('../')\n",
    "from Models.net_conv import CONV\n",
    "from Models.net_conv_rf import receptive_field\n",
    "from Models.net_rnn import RNN\n",
    "from Models.utils import seed_everything, DeFungiDataset"
   ]
  },
  {
   "cell_type": "markdown",
   "id": "c2c85364-2d68-45e0-a6c9-b427b6192508",
   "metadata": {},
   "source": [
    "## Argument and Configuration Handler "
   ]
  },
  {
   "cell_type": "code",
   "execution_count": null,
   "id": "0976df32-2cae-42f0-a7df-6fcd596689f4",
   "metadata": {},
   "outputs": [],
   "source": [
    "parser = argparse.ArgumentParser(description='experiment')\n",
    "parser.add_argument('--model', type=str, default='CDIL')\n",
    "parser.add_argument('--seed', type=int, default=1)\n",
    "args = parser.parse_args()\n",
    "\n",
    "\n",
    "# Configure device (GPU)\n",
    "device = 'cuda' if torch.cuda.is_available() else 'cpu'\n",
    "\n",
    "# Set arguments\n",
    "MODEL = args.model\n",
    "SEED = args.seed\n",
    "\n",
    "# Config parameters\n",
    "cfg_training = config['training']\n",
    "cfg_model = config['models']\n",
    "\n",
    "BATCH = cfg_training['batch_size']\n",
    "CLASS = cfg_model['n_class']\n",
    "SEQ_LEN = cfg_model['n_length']\n",
    "FIX_length = cfg_model['fix_length']\n",
    "USE_EMBED = cfg_model['use_embedding']\n",
    "CHAR_COCAB = cfg_model['vocab_size']\n",
    "INPUT_SIZE = cfg_model['dim']"
   ]
  },
  {
   "cell_type": "markdown",
   "id": "1872ea1c-4def-4be3-a78f-4355b24d3ad0",
   "metadata": {},
   "source": [
    "## Model Selection"
   ]
  },
  {
   "cell_type": "code",
   "execution_count": null,
   "id": "e2967a04-dc68-4759-8ce6-f7366440e632",
   "metadata": {},
   "outputs": [],
   "source": [
    "# Model selection with configs \n",
    "if MODEL == 'CDIL' or MODEL == 'DIL' or MODEL == 'TCN' or MODEL == 'CNN':\n",
    "    LAYER = cfg_model['cnn_layer']\n",
    "    NHID = cfg_model['cnn_hidden']\n",
    "    KERNEL_SIZE = cfg_model['cnn_ks']\n",
    "    net = CONV(MODEL, INPUT_SIZE, CLASS, [NHID] * LAYER, KERNEL_SIZE, False, False, USE_EMBED, CHAR_COCAB, FIX_length)\n",
    "    receptive_field(seq_length=SEQ_LEN, model=MODEL, kernel_size=KERNEL_SIZE, layer=LAYER)\n",
    "elif MODEL == 'Deformable':\n",
    "    LAYER = cfg_model['cnn_layer']\n",
    "    NHID = cfg_model['cnn_hidden']\n",
    "    KERNEL_SIZE = cfg_model['cnn_ks']\n",
    "    net = CONV('CNN', INPUT_SIZE, CLASS, [NHID] * LAYER, KERNEL_SIZE, True, False, USE_EMBED, CHAR_COCAB, FIX_length)\n",
    "    receptive_field(seq_length=SEQ_LEN, model=MODEL, kernel_size=KERNEL_SIZE, layer=LAYER)\n",
    "elif MODEL == 'LSTM' or MODEL == 'GRU':\n",
    "    LAYER = cfg_model['rnn_layer']\n",
    "    NHID = cfg_model['rnn_hidden']\n",
    "    net = RNN(MODEL, INPUT_SIZE, CLASS, NHID, LAYER, USE_EMBED, CHAR_COCAB, FIX_length)\n",
    "else:\n",
    "    print('no model specified.')\n",
    "    sys.exit()\n",
    "\n",
    "net = net.to(device)\n",
    "para_num = sum(p.numel() for p in net.parameters() if p.requires_grad)"
   ]
  },
  {
   "cell_type": "markdown",
   "id": "9fb1aa85-0979-4b93-afe6-a2e1c21af0f6",
   "metadata": {},
   "source": [
    "## Create Log files\n",
    "Please consult the readme for what each file does"
   ]
  },
  {
   "cell_type": "code",
   "execution_count": null,
   "id": "d35a7799-5604-44c9-8d24-7e264a10a180",
   "metadata": {},
   "outputs": [],
   "source": [
    "file_name = 'P' + str(para_num) + '_' + MODEL + '_S' + str(SEED) + '_L' + str(LAYER) + '_H' + str(NHID)\n",
    "\n",
    "os.makedirs('DeFungi_log', exist_ok=True)\n",
    "os.makedirs('DeFungi_model', exist_ok=True)\n",
    "log_file_name = './DeFungi_log/' + file_name + '.txt'\n",
    "model_name = './DeFungi_model/' + file_name + '.ph'\n",
    "handlers = [logging.FileHandler(log_file_name), logging.StreamHandler()]\n",
    "logging.basicConfig(level=logging.INFO, format='%(message)s', handlers=handlers)\n",
    "loginf = logging.info\n",
    "\n",
    "loginf(torch.cuda.get_device_name(device))\n",
    "loginf(file_name)"
   ]
  },
  {
   "cell_type": "markdown",
   "id": "de941fa3-39f9-441e-9410-5469bc3e1866",
   "metadata": {},
   "source": [
    "## Create Optimizer, Load Data (Train/Val/Test)"
   ]
  },
  {
   "cell_type": "code",
   "execution_count": null,
   "id": "114d17f5-4143-4278-8672-fad626a7ad44",
   "metadata": {},
   "outputs": [],
   "source": [
    "# Optimize\n",
    "optimizer = torch.optim.Adam(net.parameters())\n",
    "loss = torch.nn.CrossEntropyLoss(reduction='sum')\n",
    "\n",
    "\n",
    "# Data\n",
    "trainloader = DataLoader(DeFungiDataset(f'./defungi_datasets/train.pickle', True), batch_size=BATCH, shuffle=True, drop_last=False)\n",
    "valloader = DataLoader(DeFungiDataset(f'./defungi_datasets/dev.pickle', True), batch_size=BATCH, shuffle=False, drop_last=False)\n",
    "testloader = DataLoader(DeFungiDataset(f'./defungi_datasets/test.pickle', False), batch_size=BATCH, shuffle=False, drop_last=False)"
   ]
  },
  {
   "cell_type": "markdown",
   "id": "4e4d8a9f-4c62-44dc-b3fd-96b6c8b2538d",
   "metadata": {},
   "source": [
    "## Perform Training"
   ]
  },
  {
   "cell_type": "code",
   "execution_count": null,
   "id": "768da3ad-73af-493f-9c3b-0fc515fa576e",
   "metadata": {},
   "outputs": [],
   "source": [
    "TrainModel(\n",
    "    fix_length=FIX_length,\n",
    "    net=net,\n",
    "    device=device,\n",
    "    trainloader=trainloader,\n",
    "    valloader=valloader,\n",
    "    testloader=testloader,\n",
    "    n_epochs=cfg_training['epoch'],\n",
    "    optimizer=optimizer,\n",
    "    loss=loss,\n",
    "    loginf=loginf,\n",
    "    file_name=model_name\n",
    ")\n"
   ]
  },
  {
   "cell_type": "markdown",
   "id": "d1c676f3-5024-446c-a5eb-efdb14b846e6",
   "metadata": {},
   "source": [
    "## Pass to Front-End"
   ]
  },
  {
   "cell_type": "code",
   "execution_count": null,
   "id": "997ab622-c661-491a-8ea0-7667b0ee4ea8",
   "metadata": {},
   "outputs": [],
   "source": [
    "# Save Training Results for front-end\n",
    "filename = 'fungi_classifier.sav'\n",
    "pickle.dump(f'DeFungi_{MODEL}', open(filename, 'wb'))"
   ]
  }
 ],
 "metadata": {
  "kernelspec": {
   "display_name": "Python 3 (ipykernel)",
   "language": "python",
   "name": "python3"
  },
  "language_info": {
   "codemirror_mode": {
    "name": "ipython",
    "version": 3
   },
   "file_extension": ".py",
   "mimetype": "text/x-python",
   "name": "python",
   "nbconvert_exporter": "python",
   "pygments_lexer": "ipython3",
   "version": "3.11.6"
  }
 },
 "nbformat": 4,
 "nbformat_minor": 5
}
