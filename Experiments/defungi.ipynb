{
 "cells": [
  {
   "cell_type": "code",
   "execution_count": 3,
   "id": "23023b4f-a470-4593-b725-52b9a2201b0b",
   "metadata": {
    "tags": []
   },
   "outputs": [],
   "source": [
    "from torchvision import datasets, transforms\n",
    "from torch.utils.data import DataLoader, SubsetRandomSampler\n",
    "\n",
    "# Convert a given batch to a tensor for the training method\n",
    "def custom_collate(batch):\n",
    "    # Convert PIL images to tensors\n",
    "    inputs = [transforms.ToTensor()(img) for img, _ in batch]\n",
    "    labels = [label for _, label in batch]\n",
    "    return torch.stack(inputs), torch.tensor(labels)\n",
    "\n",
    "# load in the dataset from local directory, split and batch\n",
    "def DeFungiDataset(data_dir, use_grayscale=True, batch_size=32, test_size=0.2):\n",
    "    \n",
    "    # parallelization of training. I have a 16-core CPU\n",
    "    num_workers = 16\n",
    "    \n",
    "    transform = transforms.Compose([\n",
    "        transforms.Grayscale() if use_grayscale else transforms.Lambda(lambda x: x),  # Only apply Grayscale if needed\n",
    "        transforms.ToTensor(),  # to tensor object\n",
    "        transforms.Normalize((0.5,), (0.5,))  # mean = 0.5, std = 0.5\n",
    "    ])\n",
    "\n",
    "\n",
    "    # Extract images. Assumes sub-directories indicate class label\n",
    "    dataset = datasets.ImageFolder(\n",
    "        root=data_dir,\n",
    "        transform=transform\n",
    "    )\n",
    "\n",
    "    # Split dataset into training and testing; 80:20\n",
    "    num_data = len(dataset)\n",
    "    indices = list(range(num_data))\n",
    "    split = int(test_size * num_data)\n",
    "    train_indices, test_indices = indices[split:], indices[:split]\n",
    "\n",
    "    # Split dataset into training and testing; 80:20\n",
    "    num_data = len(dataset)\n",
    "    split = int(test_size * num_data)\n",
    "    trainset, testset = indices[split:], indices[:split]\n",
    "\n",
    "    # DataLoader for training and testing\n",
    "    trainloader = DataLoader(dataset, sampler=train_sampler, batch_size=batch_size, num_workers=num_workers, collate_fn=custom_collate)\n",
    "    testloader = DataLoader(dataset, sampler=test_sampler, batch_size=batch_size, num_workers=num_workers, collate_fn=custom_collate)\n",
    "\n",
    "    return trainloader, testloader"
   ]
  }
 ],
 "metadata": {
  "kernelspec": {
   "display_name": "Python 3 (ipykernel)",
   "language": "python",
   "name": "python3"
  },
  "language_info": {
   "codemirror_mode": {
    "name": "ipython",
    "version": 3
   },
   "file_extension": ".py",
   "mimetype": "text/x-python",
   "name": "python",
   "nbconvert_exporter": "python",
   "pygments_lexer": "ipython3",
   "version": "3.11.6"
  }
 },
 "nbformat": 4,
 "nbformat_minor": 5
}
