{
 "cells": [
  {
   "cell_type": "code",
   "execution_count": null,
   "id": "23023b4f-a470-4593-b725-52b9a2201b0b",
   "metadata": {
    "tags": []
   },
   "outputs": [
    {
     "name": "stdin",
     "output_type": "stream",
     "text": [
      "Enter `rgb` if you want an rgb dataset, `grayscale` otherwise:  rgb\n"
     ]
    }
   ],
   "source": [
    "\n",
    "\n",
    "# load in the dataset from local directory, split and batch\n",
    "def DeFungiDataset(data_dir, use_grayscale=True, batch_size=32, test_size=0.2):\n",
    "    transform = transforms.Compose([transforms.Grayscale()]) if use_grayscale else None\n",
    "\n",
    "    dataset = datasets.ImageFolder(\n",
    "        root=data_dir,\n",
    "        transform=transform\n",
    "    )\n",
    "\n",
    "    # Split dataset into training and testing\n",
    "    num_data = len(dataset)\n",
    "    indices = list(range(num_data))\n",
    "    split = int(test_size * num_data)\n",
    "    train_indices, test_indices = indices[split:], indices[:split]\n",
    "\n",
    "    train_sampler = torch.utils.data.sampler.SubsetRandomSampler(train_indices)\n",
    "    test_sampler = torch.utils.data.sampler.SubsetRandomSampler(test_indices)\n",
    "\n",
    "    train_loader = DataLoader(dataset, sampler=train_sampler, batch_size=batch_size)\n",
    "    test_loader = DataLoader(dataset, sampler=test_sampler, batch_size=batch_size)\n",
    "\n",
    "    return train_loader, test_loader"
   ]
  },
  {
   "cell_type": "code",
   "execution_count": null,
   "id": "9a92113e-ba5a-4021-adc5-2b3f99ec86fe",
   "metadata": {},
   "outputs": [],
   "source": []
  }
 ],
 "metadata": {
  "kernelspec": {
   "display_name": "Python 3 (ipykernel)",
   "language": "python",
   "name": "python3"
  },
  "language_info": {
   "codemirror_mode": {
    "name": "ipython",
    "version": 3
   },
   "file_extension": ".py",
   "mimetype": "text/x-python",
   "name": "python",
   "nbconvert_exporter": "python",
   "pygments_lexer": "ipython3",
   "version": "3.11.6"
  }
 },
 "nbformat": 4,
 "nbformat_minor": 5
}
