{
 "cells": [
  {
   "cell_type": "code",
   "execution_count": 3,
   "id": "23023b4f-a470-4593-b725-52b9a2201b0b",
   "metadata": {
    "tags": []
   },
   "outputs": [],
   "source": [
    "from torchvision import datasets, transforms\n",
    "from torch.utils.data import DataLoader, SubsetRandomSampler\n",
    "\n",
    "def custom_collate(batch):\n",
    "    # Flatten the image tensors and convert labels to LongTensor\n",
    "    inputs = [transforms.Normalize((0.5,), (0.5))(transforms.ToTensor()(img)).view(-1) for img, _ in batch]\n",
    "    labels = [label for _, label in batch]\n",
    "    return torch.stack(inputs).long(), torch.tensor(labels).long()\n",
    "\n",
    "def DeFungiDataset(data_dir, use_rgb=True, batch_size=32, test_size=0.2):\n",
    "    # parallelization of training. I have a 16-core CPU\n",
    "    num_workers = 16\n",
    "    \n",
    "    transform = transforms.Compose([\n",
    "        transforms.Grayscale() if not use_rgb else transforms.Lambda(lambda x: x),  # Only apply Grayscale if needed\n",
    "    ])\n",
    "\n",
    "    # Extract images. Assumes sub-directories indicate class label\n",
    "    dataset = datasets.ImageFolder(\n",
    "        root=data_dir,\n",
    "        transform=transform\n",
    "    )\n",
    "\n",
    "    # Split dataset into training and testing; 80:20\n",
    "    num_data = len(dataset)\n",
    "    indices = list(range(num_data))\n",
    "    split = int(test_size * num_data)\n",
    "    train_indices, test_indices = indices[split:], indices[:split]\n",
    "\n",
    "    # DataLoader for training and testing\n",
    "    train_sampler = SubsetRandomSampler(train_indices)\n",
    "    test_sampler = SubsetRandomSampler(test_indices)\n",
    "\n",
    "    # DataLoader for training and testing\n",
    "    trainloader = DataLoader(dataset, sampler=train_sampler, batch_size=batch_size, num_workers=num_workers, collate_fn=custom_collate)\n",
    "    testloader = DataLoader(dataset, sampler=test_sampler, batch_size=batch_size, num_workers=num_workers, collate_fn=custom_collate)\n",
    "\n",
    "    for batch_idx, (inputs, labels) in enumerate(trainloader):\n",
    "        print(f\"Batch {batch_idx + 1}:\")\n",
    "        print(\"Inputs Type:\", inputs.type())\n",
    "        print(\"Labels Type:\", labels.type())\n",
    "        print(\"Inputs Shape:\", inputs.shape)\n",
    "        print(\"Labels Shape:\", labels.shape)\n",
    "        break  # Stop after printing the first batch to avoid long output\n",
    "\n",
    "    return trainloader, testloader"
   ]
  },
  {
   "cell_type": "code",
   "execution_count": null,
   "id": "e50f3d54-5e32-47b9-8bfe-692046cfbd23",
   "metadata": {},
   "outputs": [],
   "source": []
  }
 ],
 "metadata": {
  "kernelspec": {
   "display_name": "Python 3 (ipykernel)",
   "language": "python",
   "name": "python3"
  },
  "language_info": {
   "codemirror_mode": {
    "name": "ipython",
    "version": 3
   },
   "file_extension": ".py",
   "mimetype": "text/x-python",
   "name": "python",
   "nbconvert_exporter": "python",
   "pygments_lexer": "ipython3",
   "version": "3.11.6"
  }
 },
 "nbformat": 4,
 "nbformat_minor": 5
}
