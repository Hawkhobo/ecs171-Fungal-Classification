{
 "cells": [
  {
   "cell_type": "code",
   "execution_count": 15,
   "id": "23023b4f-a470-4593-b725-52b9a2201b0b",
   "metadata": {
    "tags": []
   },
   "outputs": [
    {
     "name": "stdin",
     "output_type": "stream",
     "text": [
      "Enter `rgb` if you want an rgb dataset, `grayscale` otherwise:  rgb\n"
     ]
    },
    {
     "name": "stdout",
     "output_type": "stream",
     "text": [
      "0\t\t\r"
     ]
    }
   ],
   "source": [
    "import pickle\n",
    "import os\n",
    "import numpy as np \n",
    "import tensorflow as tf\n",
    "\n",
    "AUTOTUNE = tf.data.experimental.AUTOTUNE\n",
    "\n",
    "\n",
    "def get_dataset(n_devices, batch_size, normalize, dtype):\n",
    "    \"\"\"Get DeFungi dataset splits.\"\"\"\n",
    "    if batch_size % n_devices:\n",
    "        raise ValueError(\"Batch size %d isn't divided evenly by n_devices %d\" %\n",
    "                     (batch_size, n_devices))\n",
    "    \n",
    "    # Dataset that is all grayscale, or all RGB. Pulled from ../EDA/Dataset\n",
    "    all_dataset = tf.data.Dataset.list_files(f'../EDA/Dataset/*/{dtype}_*.jpg')\n",
    "    \n",
    "    def decode(x):\n",
    "        # Read and decode the image\n",
    "        image = tf.io.read_file(x)\n",
    "        image = tf.image.decode_jpeg(image, channels=3)\n",
    "        \n",
    "        # Get Label\n",
    "        parts = tf.strings.split(x, '/')\n",
    "        label_part = parts[-2]\n",
    "        label = tf.strings.substr(label_part, pos=0, len=2)\n",
    "        \n",
    "        decoded = {\n",
    "        'inputs':\n",
    "            image,\n",
    "        'targets':\n",
    "            label\n",
    "        }\n",
    "        \n",
    "        if normalize:\n",
    "            decoded['inputs'] = decoded['inputs'] / 255\n",
    "            \n",
    "        return decoded\n",
    "    \n",
    "    # Maps the entire dataset to its corresponding label (supervised learning)\n",
    "    # Note 'targets' are NOT integer-represented\n",
    "    all_dataset = all_dataset.map(decode, num_parallel_calls=AUTOTUNE)\n",
    "    \n",
    "    # Shuffle, then split all_dataset into training, testing, validating\n",
    "    all_size = all_dataset.cardinality().numpy()\n",
    "    all_dataset = all_dataset.shuffle(buffer_size=all_size, reshuffle_each_iteration=True)\n",
    "    \n",
    "    # Calculate the sizes for train, val, and test sets\n",
    "    train_ratio = 0.70; val_ratio = 0.15\n",
    "    train_size = int(train_ratio * all_size)\n",
    "    val_size = int(val_ratio * all_size)\n",
    "    test_size = all_size - train_size - val_size\n",
    "    \n",
    "    # Split the dataset\n",
    "    train_dataset = all_dataset.take(train_size)\n",
    "    remaining_dataset = all_dataset.skip(train_size)\n",
    "    val_dataset = remaining_dataset.take(val_size)\n",
    "    test_dataset = remaining_dataset.skip(val_size)\n",
    "    \n",
    "    # Batch the datasets\n",
    "    train_dataset = train_dataset.batch(batch_size, drop_remainder=True)\n",
    "    val_dataset = val_dataset.batch(batch_size, drop_remainder=True)\n",
    "    test_dataset = test_dataset.batch(batch_size, drop_remainder=True)\n",
    "    \n",
    "    # Shuffle the training dataset\n",
    "    train_dataset = train_dataset.shuffle(buffer_size=256, reshuffle_each_iteration=True)\n",
    "\n",
    "    return train_dataset, val_dataset, test_dataset, 5, 256, (batch_size, 32, 32,\n",
    "                                                             1)\n",
    "\n",
    "# grayscale or RGB dataset\n",
    "dtype = input('Enter `rgb` if you want an rgb dataset, `grayscale` otherwise: ')\n",
    "\n",
    "# Return trainset, evalset, testset\n",
    "train_ds, eval_ds, test_ds, num_classes, vocab_size, input_shape = get_dataset(1, 32, True, dtype)\n",
    "\n",
    "\n",
    "# Map the 3 sets, then encode in binary @ local directory\n",
    "os.makedirs('../defungi_encoded/', exist_ok=True)\n",
    "mapping = {\"train\": train_ds, \"dev\": eval_ds, \"test\": test_ds}\n",
    "for component in mapping:\n",
    "    ds_list = []\n",
    "    for idx, inst in enumerate(iter(mapping[component])):\n",
    "        ds_list.append({\n",
    "            \"input_ids_0\": inst[\"inputs\"].numpy()[0].reshape(-1),\n",
    "            \"label\": inst[\"targets\"].numpy()[0]\n",
    "        })\n",
    "        if idx % 100 == 0:\n",
    "            print(f\"{idx}\\t\\t\", end=\"\\r\")\n",
    "    with open(f\"../defungi_encoded/image.{component}.pickle\", \"wb\") as f:\n",
    "        pickle.dump(ds_list, f)\n"
   ]
  }
 ],
 "metadata": {
  "kernelspec": {
   "display_name": "Python 3 (ipykernel)",
   "language": "python",
   "name": "python3"
  },
  "language_info": {
   "codemirror_mode": {
    "name": "ipython",
    "version": 3
   },
   "file_extension": ".py",
   "mimetype": "text/x-python",
   "name": "python",
   "nbconvert_exporter": "python",
   "pygments_lexer": "ipython3",
   "version": "3.11.6"
  }
 },
 "nbformat": 4,
 "nbformat_minor": 5
}
