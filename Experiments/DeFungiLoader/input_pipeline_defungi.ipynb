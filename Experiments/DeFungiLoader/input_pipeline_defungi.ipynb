{
 "cells": [
  {
   "cell_type": "code",
   "execution_count": null,
   "id": "cc58c480-0491-49f6-8d26-1d379fa01d7d",
   "metadata": {},
   "outputs": [],
   "source": [
    "# Refer to https://github.com/google-research/long-range-arena/blob/main/lra_benchmarks/image/input_pipeline.py\n",
    "\n",
    "import os\n",
    "import tensorflow.compat.v1 as tf\n",
    "import tensorflow.data.Dataset as tfds\n",
    "\n",
    "AUTOTUNE = tf.data.experimental.AUTOTUNE\n",
    "\n",
    "def get_a_dataset(n_devices, batch_size=256, normalize=False, dtype):\n",
    "  \"\"\"Get DeFungi dataset splits.\"\"\"\n",
    "  if batch_size % n_devices:\n",
    "    raise ValueError(\"Batch size %d isn't divided evenly by n_devices %d\" %\n",
    "                     (batch_size, n_devices))\n",
    "\n",
    "  absolute_path = '../../EDA/Dataset'\n",
    "\n",
    "  # Dataset that is all grayscale, or all RGB. Pulled from ./EDA/Dataset\n",
    "  all_dataset = tfds.list_files(os.path.join(absolute_path, f'*/{dtype}_*.jpg'))\n",
    "\n",
    "  def decode(x):\n",
    "    decoded = {\n",
    "        'inputs':\n",
    "            tf.cast(tf.image.rgb_to_grayscale(x['image']), dtype=tf.int32),\n",
    "        'targets':\n",
    "            x['label']\n",
    "    }\n",
    "    if normalize:\n",
    "      decoded['inputs'] = decoded['inputs'] / 255\n",
    "    return decoded\n",
    "\n",
    "  train_dataset = train_dataset.map(decode, num_parallel_calls=AUTOTUNE)\n",
    "  val_dataset = val_dataset.map(decode, num_parallel_calls=AUTOTUNE)\n",
    "  test_dataset = test_dataset.map(decode, num_parallel_calls=AUTOTUNE)\n",
    "\n",
    "  # train_dataset = train_dataset.repeat()\n",
    "  train_dataset = train_dataset.batch(batch_size, drop_remainder=True)\n",
    "  val_dataset = val_dataset.batch(batch_size, drop_remainder=True)\n",
    "  test_dataset = test_dataset.batch(batch_size, drop_remainder=True)\n",
    "\n",
    "  train_dataset = train_dataset.shuffle(\n",
    "      buffer_size=256, reshuffle_each_iteration=True)\n",
    "\n",
    "  return train_dataset, val_dataset, test_dataset, 10, 256, (batch_size, 32, 32,\n",
    "                                                             1)\n"
   ]
  }
 ],
 "metadata": {
  "kernelspec": {
   "display_name": "Python 3 (ipykernel)",
   "language": "python",
   "name": "python3"
  },
  "language_info": {
   "codemirror_mode": {
    "name": "ipython",
    "version": 3
   },
   "file_extension": ".py",
   "mimetype": "text/x-python",
   "name": "python",
   "nbconvert_exporter": "python",
   "pygments_lexer": "ipython3",
   "version": "3.11.6"
  }
 },
 "nbformat": 4,
 "nbformat_minor": 5
}
