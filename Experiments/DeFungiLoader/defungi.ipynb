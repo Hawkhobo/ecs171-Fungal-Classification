{
 "cells": [
  {
   "cell_type": "code",
   "execution_count": null,
   "id": "d8892d12-8243-4e59-b432-ef5666b26bab",
   "metadata": {},
   "outputs": [],
   "source": [
    "# Refer to https://github.com/mlpen/Nystromformer/blob/main/LRA/datasets/cifar10.py\n",
    "\n",
    "import input_pipeline_cifar10\n",
    "import pickle\n",
    "import os\n",
    "import argparse\n",
    "\n",
    "# Pass in grayscale or RGB selection from Python args\n",
    "parser = argparse.ArgumentParse(description='dataset type')\n",
    "parser.add_argument('--type', type=str, default='grayscale')\n",
    "args=parser.parse_args()\n",
    "dtype = args.type\n",
    "\n",
    "os.makedirs('../defungi_datasets/', exist_ok=True)\n",
    "\n",
    "train_ds, eval_ds, test_ds, num_classes, vocab_size, input_shape = input_pipeline_cifar10.get_cifar10_datasets(\n",
    "    n_devices=1, batch_size=1, normalize=False, dtype)\n",
    "\n",
    "mapping = {\"train\": train_ds, \"dev\": eval_ds, \"test\": test_ds}\n",
    "for component in mapping:\n",
    "    ds_list = []\n",
    "    for idx, inst in enumerate(iter(mapping[component])):\n",
    "        ds_list.append({\n",
    "            \"input_ids_0\": inst[\"inputs\"].numpy()[0].reshape(-1),\n",
    "            \"label\": inst[\"targets\"].numpy()[0]\n",
    "        })\n",
    "        if idx % 100 == 0:\n",
    "            print(f\"{idx}\\t\\t\", end=\"\\r\")\n",
    "    with open(f\"../defungi_datasets/image.{component}.pickle\", \"wb\") as f:\n",
    "        pickle.dump(ds_list, f)\n"
   ]
  }
 ],
 "metadata": {
  "kernelspec": {
   "display_name": "Python 3 (ipykernel)",
   "language": "python",
   "name": "python3"
  },
  "language_info": {
   "codemirror_mode": {
    "name": "ipython",
    "version": 3
   },
   "file_extension": ".py",
   "mimetype": "text/x-python",
   "name": "python",
   "nbconvert_exporter": "python",
   "pygments_lexer": "ipython3",
   "version": "3.11.6"
  }
 },
 "nbformat": 4,
 "nbformat_minor": 5
}
