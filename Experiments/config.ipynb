{
 "cells": [
  {
   "cell_type": "markdown",
   "id": "9d4a0605-1c80-451b-8e60-21c331aedd21",
   "metadata": {},
   "source": [
    "# Configuration of given ML Model"
   ]
  },
  {
   "cell_type": "code",
   "execution_count": 1,
   "id": "275c846a-fcb6-480e-b2b2-58a8ffbc7167",
   "metadata": {},
   "outputs": [],
   "source": [
    "config = {\n",
    "    \"training\": {\n",
    "        \"batch_size\": 32,\n",
    "        \"epoch\": 100\n",
    "    },\n",
    "    \"models\": {\n",
    "        \"n_class\": 5,\n",
    "        \"n_length\": 1024,\n",
    "        \"fix_length\": True,\n",
    "        \"use_embedding\": True,\n",
    "        \"vocab_size\": 256,\n",
    "        \"dim\": 64,\n",
    "        \"cnn_layer\": 9,\n",
    "        \"cnn_hidden\": 64,\n",
    "        \"cnn_ks\": 3,\n",
    "        \"rnn_layer\": 1,\n",
    "        \"rnn_hidden\": 128\n",
    "    }\n",
    "}\n"
   ]
  }
 ],
 "metadata": {
  "kernelspec": {
   "display_name": "Python 3 (ipykernel)",
   "language": "python",
   "name": "python3"
  },
  "language_info": {
   "codemirror_mode": {
    "name": "ipython",
    "version": 3
   },
   "file_extension": ".py",
   "mimetype": "text/x-python",
   "name": "python",
   "nbconvert_exporter": "python",
   "pygments_lexer": "ipython3",
   "version": "3.11.6"
  }
 },
 "nbformat": 4,
 "nbformat_minor": 5
}
